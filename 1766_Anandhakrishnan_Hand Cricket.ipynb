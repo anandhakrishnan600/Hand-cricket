{
 "cells": [
  {
   "cell_type": "code",
   "execution_count": null,
   "id": "c3a8a7ed-6ada-40c4-baf4-908beeb66413",
   "metadata": {},
   "outputs": [
    {
     "name": "stdout",
     "output_type": "stream",
     "text": [
      "Welcome to the hand cricket game in Python!\n"
     ]
    },
    {
     "name": "stdin",
     "output_type": "stream",
     "text": [
      "Please enter your name:  Anandhu\n",
      "Enter any number between 1 to 10:  2\n"
     ]
    },
    {
     "name": "stdout",
     "output_type": "stream",
     "text": [
      "Input of AI: 2\n"
     ]
    },
    {
     "name": "stdin",
     "output_type": "stream",
     "text": [
      "Enter ODD or EVEN:  EVEN\n"
     ]
    },
    {
     "name": "stdout",
     "output_type": "stream",
     "text": [
      "You won the toss, Choose to BAT or BALL:\n"
     ]
    },
    {
     "name": "stdin",
     "output_type": "stream",
     "text": [
      "BAT or BALL:  BAT\n"
     ]
    },
    {
     "name": "stdout",
     "output_type": "stream",
     "text": [
      "You are going to bat first.\n"
     ]
    },
    {
     "name": "stdin",
     "output_type": "stream",
     "text": [
      "Bat (Enter the number 1-10):  6\n"
     ]
    },
    {
     "name": "stdout",
     "output_type": "stream",
     "text": [
      "AI ball: 2\n",
      "Your current score is: 6\n"
     ]
    },
    {
     "name": "stdin",
     "output_type": "stream",
     "text": [
      "Bat (Enter the number 1-10):  7\n"
     ]
    },
    {
     "name": "stdout",
     "output_type": "stream",
     "text": [
      "AI ball: 5\n",
      "Your current score is: 13\n"
     ]
    },
    {
     "name": "stdin",
     "output_type": "stream",
     "text": [
      "Bat (Enter the number 1-10):  8\n"
     ]
    },
    {
     "name": "stdout",
     "output_type": "stream",
     "text": [
      "AI ball: 4\n",
      "Your current score is: 21\n"
     ]
    },
    {
     "name": "stdin",
     "output_type": "stream",
     "text": [
      "Bat (Enter the number 1-10):  9\n"
     ]
    },
    {
     "name": "stdout",
     "output_type": "stream",
     "text": [
      "AI ball: 6\n",
      "Your current score is: 30\n"
     ]
    },
    {
     "name": "stdin",
     "output_type": "stream",
     "text": [
      "Bat (Enter the number 1-10):  2\n"
     ]
    },
    {
     "name": "stdout",
     "output_type": "stream",
     "text": [
      "AI ball: 6\n",
      "Your current score is: 32\n"
     ]
    },
    {
     "name": "stdin",
     "output_type": "stream",
     "text": [
      "Bat (Enter the number 1-10):  1\n"
     ]
    },
    {
     "name": "stdout",
     "output_type": "stream",
     "text": [
      "AI ball: 4\n",
      "Your current score is: 33\n"
     ]
    },
    {
     "name": "stdin",
     "output_type": "stream",
     "text": [
      "Bat (Enter the number 1-10):  10\n"
     ]
    },
    {
     "name": "stdout",
     "output_type": "stream",
     "text": [
      "AI ball: 8\n",
      "Your current score is: 43\n"
     ]
    },
    {
     "name": "stdin",
     "output_type": "stream",
     "text": [
      "Bat (Enter the number 1-10):  5\n"
     ]
    },
    {
     "name": "stdout",
     "output_type": "stream",
     "text": [
      "AI ball: 3\n",
      "Your current score is: 48\n"
     ]
    },
    {
     "name": "stdin",
     "output_type": "stream",
     "text": [
      "Bat (Enter the number 1-10):  6\n"
     ]
    },
    {
     "name": "stdout",
     "output_type": "stream",
     "text": [
      "AI ball: 6\n",
      "Your current score is: 54\n",
      "AI took your wicket\n",
      "AI is going to bat. AI needs 55 runs to win the match.\n"
     ]
    },
    {
     "name": "stdin",
     "output_type": "stream",
     "text": [
      "Ball (enter the number 1 - 10):  1\n"
     ]
    },
    {
     "name": "stdout",
     "output_type": "stream",
     "text": [
      "AI bat: 8\n",
      "Current score of AI is: 8\n"
     ]
    },
    {
     "name": "stdin",
     "output_type": "stream",
     "text": [
      "Ball (enter the number 1 - 10):  4\n"
     ]
    },
    {
     "name": "stdout",
     "output_type": "stream",
     "text": [
      "AI bat: 5\n",
      "Current score of AI is: 13\n"
     ]
    },
    {
     "name": "stdin",
     "output_type": "stream",
     "text": [
      "Ball (enter the number 1 - 10):  3\n"
     ]
    },
    {
     "name": "stdout",
     "output_type": "stream",
     "text": [
      "AI bat: 8\n",
      "Current score of AI is: 21\n"
     ]
    },
    {
     "name": "stdin",
     "output_type": "stream",
     "text": [
      "Ball (enter the number 1 - 10):  7\n"
     ]
    },
    {
     "name": "stdout",
     "output_type": "stream",
     "text": [
      "AI bat: 1\n",
      "Current score of AI is: 22\n"
     ]
    },
    {
     "name": "stdin",
     "output_type": "stream",
     "text": [
      "Ball (enter the number 1 - 10):  1\n"
     ]
    },
    {
     "name": "stdout",
     "output_type": "stream",
     "text": [
      "AI bat: 4\n",
      "Current score of AI is: 26\n"
     ]
    },
    {
     "name": "stdin",
     "output_type": "stream",
     "text": [
      "Ball (enter the number 1 - 10):  9\n"
     ]
    },
    {
     "name": "stdout",
     "output_type": "stream",
     "text": [
      "AI bat: 6\n",
      "Current score of AI is: 32\n"
     ]
    },
    {
     "name": "stdin",
     "output_type": "stream",
     "text": [
      "Ball (enter the number 1 - 10):  10\n"
     ]
    },
    {
     "name": "stdout",
     "output_type": "stream",
     "text": [
      "AI bat: 10\n",
      "Current score of AI is: 42\n",
      "You successfully took the wicket of AI!\n",
      "You won the match by 12 runs!\n"
     ]
    }
   ],
   "source": [
    "import random \n",
    "\n",
    "def firstbatting():\n",
    "    print(\"You are going to bat first.\")\n",
    "    runs = 0\n",
    "    airuns = 0\n",
    "    while True:\n",
    "        me = int(input(\"Bat (Enter the number 1-10): \"))\n",
    "        AI = random.randint(1, 10)\n",
    "        print(\"AI ball:\", AI)\n",
    "        runs += me\n",
    "        print(\"Your current score is:\", runs)\n",
    "\n",
    "        if me == AI:\n",
    "            print(\"AI took your wicket\")\n",
    "            print(\"AI is going to bat. AI needs\", runs + 1, \"runs to win the match.\")\n",
    "            while True:\n",
    "                me = int(input(\"Ball (enter the number 1 - 10): \"))\n",
    "                AI = random.randint(1, 10)\n",
    "                print(\"AI bat:\", AI)\n",
    "                airuns += AI\n",
    "                print(\"Current score of AI is:\", airuns)\n",
    "\n",
    "                if airuns > runs:\n",
    "                    print(\"Good try, but AI won the match by\", airuns - runs, \"runs. Better luck next time!\")\n",
    "                    return\n",
    "                elif me == AI:\n",
    "                    print(\"You successfully took the wicket of AI!\")\n",
    "                    print(\"You won the match by\", runs - airuns, \"runs!\")\n",
    "                    return\n",
    "\n",
    "def firstballing():\n",
    "    print(\"You are going to bowl first.\")\n",
    "    runs = 0\n",
    "    airuns = 0\n",
    "    while True:\n",
    "        me = int(input(\"Ball (enter number 1-10): \"))\n",
    "        AI = random.randint(1, 10)\n",
    "        print(\"AI bat:\", AI)\n",
    "        airuns += AI\n",
    "        print(\"Current score of AI is:\", airuns)\n",
    "\n",
    "        if me == AI:\n",
    "            print(\"AI took your wicket!\")\n",
    "            print(\"You need\", airuns + 1, \"runs to win the match.\")\n",
    "            while True:\n",
    "                me = int(input(\"Bat (enter number 1-10): \"))\n",
    "                AI = random.randint(1, 10)\n",
    "                print(\"AI ball:\", AI)\n",
    "                runs += me\n",
    "                print(\"Your current score is:\", runs)\n",
    "\n",
    "                if runs > airuns:\n",
    "                    print(\"You won the match by\", runs - airuns, \"runs!\")\n",
    "                    return  \n",
    "                elif me == AI:\n",
    "                    print(\"AI successfully took your wicket!\")\n",
    "                    print(\"AI won the match by\", airuns - runs, \"runs.\")\n",
    "                    return  \n",
    "\n",
    "def play_game():\n",
    "    print(\"Welcome to the hand cricket game in Python!\")\n",
    "    name = input(\"Please enter your name: \")\n",
    "\n",
    "    while True:\n",
    "        me = int(input(\"Enter any number between 1 to 10: \"))\n",
    "        if 1 <= me <= 10:\n",
    "            break\n",
    "        print(\"Invalid input. Please enter a number between 1 and 10.\")\n",
    "\n",
    "    AI = random.randint(1, 10)\n",
    "    print(\"Input of AI:\", AI)\n",
    "\n",
    "    toss = input(\"Enter ODD or EVEN: \").upper()\n",
    "\n",
    "    if (me + AI) % 2 == (0 if toss == \"EVEN\" else 1):\n",
    "        print(\"You won the toss, Choose to BAT or BALL:\")\n",
    "        tossinput = input(\"BAT or BALL: \").upper()\n",
    "        if tossinput == \"BAT\":\n",
    "            firstbatting()\n",
    "        elif tossinput == \"BALL\":\n",
    "            firstballing()\n",
    "        else:\n",
    "            print(\"Invalid input.\")\n",
    "    else:\n",
    "        print(\"AI wins the toss.\")\n",
    "        AItoss = random.choice([\"BAT\", \"BALL\"])\n",
    "        if AItoss == \"BAT\":\n",
    "            print(\"AI is going to bat first.\")\n",
    "            firstballing()\n",
    "        else:\n",
    "            print(\"AI is going to bowl first.\")\n",
    "            firstbatting()\n",
    "\n",
    "while True:\n",
    "    play_game()\n",
    "    play_again = input(\"Do you want to play again? (yes/no): \").lower()\n",
    "    if play_again != 'yes':\n",
    "        print(\"Thank you for playing!\")\n",
    "        break\n"
   ]
  },
  {
   "cell_type": "code",
   "execution_count": null,
   "id": "dfe12b5c-3ce0-4e15-b014-df5adf186cc3",
   "metadata": {},
   "outputs": [],
   "source": []
  }
 ],
 "metadata": {
  "kernelspec": {
   "display_name": "Python 3 (ipykernel)",
   "language": "python",
   "name": "python3"
  },
  "language_info": {
   "codemirror_mode": {
    "name": "ipython",
    "version": 3
   },
   "file_extension": ".py",
   "mimetype": "text/x-python",
   "name": "python",
   "nbconvert_exporter": "python",
   "pygments_lexer": "ipython3",
   "version": "3.12.4"
  }
 },
 "nbformat": 4,
 "nbformat_minor": 5
}
